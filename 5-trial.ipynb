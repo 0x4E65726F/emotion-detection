{
 "cells": [
  {
   "cell_type": "code",
   "execution_count": 1,
   "id": "3ec7793e-8a63-46c6-9cdc-0258e2647dd5",
   "metadata": {},
   "outputs": [
    {
     "name": "stdout",
     "output_type": "stream",
     "text": [
      "cuda\n"
     ]
    }
   ],
   "source": [
    "import my_module as mm\n",
    "nets = []\n",
    "convs = [8, 16, 32, 64]\n",
    "fcs = [1024, 64, 32]\n",
    "device = mm.torch.device('cuda' if mm.torch.cuda.is_available() else 'cpu')\n",
    "print(device)"
   ]
  },
  {
   "cell_type": "code",
   "execution_count": 2,
   "id": "366c115e-124f-433c-a721-b68040ad3f4a",
   "metadata": {},
   "outputs": [
    {
     "name": "stdout",
     "output_type": "stream",
     "text": [
      "Done\n"
     ]
    }
   ],
   "source": [
    "categories = [\n",
    "    \"anger\",\n",
    "    \"surprise\",\n",
    "    \"disgust\",\n",
    "    \"fear\",\n",
    "    \"neutral\",\n",
    "    \"happiness\",\n",
    "    \"sadness\",\n",
    "    \"contempt\"\n",
    "]\n",
    "\n",
    "# categories = [\n",
    "#     \"anger\",\n",
    "#     \"surprise\",\n",
    "#     \"disgust\",\n",
    "#     \"fear\",\n",
    "#     \"neutral\",\n",
    "#     \"happiness\",\n",
    "#     \"sad\",\n",
    "# ]\n",
    "\n",
    "X, y = mm.read_pic(mm.pd.read_csv('data/legend.csv'), categories, limit = 1000)\n",
    "# X, y = mm.read_pic(mm.pd.read_csv('data/500_picts_satz.csv'), categories)\n",
    "seed = 1234\n",
    "Xtr, Xva, ytr, yva = mm.train_test_split(X, y, test_size=0.1, random_state=seed, shuffle=True)\n",
    "trainloader, testloader = mm.get_loader(Xtr, Xva, ytr, yva, batch_size = 4)\n",
    "print(\"Done\")"
   ]
  },
  {
   "cell_type": "code",
   "execution_count": 3,
   "id": "c40b00e5-8ff3-4f61-8a50-9b9d3acf0601",
   "metadata": {},
   "outputs": [
    {
     "name": "stdout",
     "output_type": "stream",
     "text": [
      "Done with a CNN has 1 convs layers and 1 linear layers\n",
      "Done with a CNN has 2 convs layers and 1 linear layers\n",
      "Done with a CNN has 3 convs layers and 1 linear layers\n",
      "Done with a CNN has 4 convs layers and 1 linear layers\n",
      "Done with a CNN has 1 convs layers and 2 linear layers\n",
      "Done with a CNN has 2 convs layers and 2 linear layers\n",
      "Done with a CNN has 3 convs layers and 2 linear layers\n",
      "Done with a CNN has 4 convs layers and 2 linear layers\n",
      "Done with a CNN has 1 convs layers and 3 linear layers\n",
      "Done with a CNN has 2 convs layers and 3 linear layers\n",
      "Done with a CNN has 3 convs layers and 3 linear layers\n",
      "Done with a CNN has 4 convs layers and 3 linear layers\n"
     ]
    }
   ],
   "source": [
    "for i in range(2, -1, -1):\n",
    "    for j in range(1, 5):\n",
    "        nets.append(mm.Net2(1, 350, 350, 8, convs[:j], fcs[i:]))\n",
    "        print(f'Done with a CNN has {len(convs[:j])} convs layers and {len(fcs[i:])} linear layers')"
   ]
  },
  {
   "cell_type": "code",
   "execution_count": 4,
   "id": "b37ccae0-b6e5-4ce3-906e-1d44bc8b0f52",
   "metadata": {},
   "outputs": [
    {
     "name": "stdout",
     "output_type": "stream",
     "text": [
      "CrossEntropyLoss()\n",
      "[1,   100] loss: 2.025\n",
      "[1,   200] loss: 2.214\n",
      "[2,   100] loss: 2.219\n",
      "[2,   200] loss: 2.209\n",
      "Finished Training\n",
      "./model/model_1.pth done.\n",
      "CrossEntropyLoss()\n",
      "[1,   100] loss: 1.877\n",
      "[1,   200] loss: 1.902\n",
      "[2,   100] loss: 1.902\n",
      "[2,   200] loss: 1.877\n",
      "Finished Training\n",
      "./model/model_2.pth done.\n",
      "CrossEntropyLoss()\n",
      "[1,   100] loss: 1.757\n",
      "[1,   200] loss: 1.712\n",
      "[2,   100] loss: 1.697\n",
      "[2,   200] loss: 1.729\n",
      "Finished Training\n",
      "./model/model_3.pth done.\n",
      "CrossEntropyLoss()\n",
      "[1,   100] loss: 1.702\n",
      "[1,   200] loss: 1.724\n",
      "[2,   100] loss: 1.732\n",
      "[2,   200] loss: 1.694\n",
      "Finished Training\n",
      "./model/model_4.pth done.\n",
      "CrossEntropyLoss()\n",
      "[1,   100] loss: 1.831\n",
      "[1,   200] loss: 1.869\n",
      "[2,   100] loss: 1.817\n",
      "[2,   200] loss: 1.872\n",
      "Finished Training\n",
      "./model/model_5.pth done.\n",
      "CrossEntropyLoss()\n",
      "[1,   100] loss: 1.727\n",
      "[1,   200] loss: 1.729\n",
      "[2,   100] loss: 1.747\n",
      "[2,   200] loss: 1.729\n",
      "Finished Training\n",
      "./model/model_6.pth done.\n",
      "CrossEntropyLoss()\n",
      "[1,   100] loss: 1.724\n",
      "[1,   200] loss: 1.734\n",
      "[2,   100] loss: 1.687\n",
      "[2,   200] loss: 1.729\n",
      "Finished Training\n",
      "./model/model_7.pth done.\n",
      "CrossEntropyLoss()\n",
      "[1,   100] loss: 1.804\n",
      "[1,   200] loss: 1.797\n",
      "[2,   100] loss: 1.824\n",
      "[2,   200] loss: 1.867\n",
      "Finished Training\n",
      "./model/model_8.pth done.\n",
      "CrossEntropyLoss()\n",
      "[1,   100] loss: 1.719\n",
      "[1,   200] loss: 1.734\n",
      "[2,   100] loss: 1.739\n",
      "[2,   200] loss: 1.714\n",
      "Finished Training\n",
      "./model/model_9.pth done.\n",
      "CrossEntropyLoss()\n",
      "[1,   100] loss: 1.889\n",
      "[1,   200] loss: 1.899\n",
      "[2,   100] loss: 1.884\n",
      "[2,   200] loss: 1.897\n",
      "Finished Training\n",
      "./model/model_10.pth done.\n",
      "CrossEntropyLoss()\n",
      "[1,   100] loss: 1.742\n",
      "[1,   200] loss: 1.719\n",
      "[2,   100] loss: 1.719\n",
      "[2,   200] loss: 1.714\n",
      "Finished Training\n",
      "./model/model_11.pth done.\n",
      "CrossEntropyLoss()\n",
      "[1,   100] loss: 1.892\n",
      "[1,   200] loss: 1.907\n",
      "[2,   100] loss: 1.902\n",
      "[2,   200] loss: 1.882\n",
      "Finished Training\n",
      "./model/model_12.pth done.\n"
     ]
    }
   ],
   "source": [
    "count = 0\n",
    "DIR_PATH = './model/'\n",
    "mm.os.makedirs(DIR_PATH, exist_ok = True)\n",
    "for net in nets:\n",
    "    if mm.torch.cuda.is_available():\n",
    "        mm.torch.cuda.empty_cache()\n",
    "        net.cuda()\n",
    "    net = mm.train_process2(device, net, trainloader, LR = 0.1, EPOCH = 2, PRINT = 100)\n",
    "    count += 1\n",
    "    PATH = DIR_PATH + \"model_\" + str(count) + \".pth\"\n",
    "    mm.torch.save(net.state_dict(), PATH)\n",
    "    print(PATH, \"done.\")"
   ]
  },
  {
   "cell_type": "code",
   "execution_count": 5,
   "id": "1f1603e2-5139-4510-849c-9b5d4655f2ea",
   "metadata": {},
   "outputs": [
    {
     "name": "stdout",
     "output_type": "stream",
     "text": [
      "Done for model 1\n",
      "Done for model 2\n",
      "Done for model 3\n",
      "Done for model 4\n",
      "Done for model 5\n",
      "Done for model 6\n",
      "Done for model 7\n",
      "Done for model 8\n",
      "Done for model 9\n",
      "Done for model 10\n",
      "Done for model 11\n",
      "Done for model 12\n"
     ]
    }
   ],
   "source": [
    "training_error = []\n",
    "testing_error = []\n",
    "count = 0\n",
    "for net in nets:\n",
    "    if mm.torch.cuda.is_available():\n",
    "        net.cuda()\n",
    "    training_error.append(1 - mm.accuracy(device, net, trainloader))\n",
    "    testing_error.append(1 - mm.accuracy(device, net, testloader))\n",
    "    count += 1\n",
    "    print(\"Done for model\", count)"
   ]
  },
  {
   "cell_type": "code",
   "execution_count": 6,
   "id": "0dc8171b-c874-40cf-b8bc-27a1d820bf84",
   "metadata": {},
   "outputs": [
    {
     "name": "stdout",
     "output_type": "stream",
     "text": [
      "[0.9366666666666666, 0.6144444444444445, 0.45444444444444443, 0.4455555555555556, 0.9877777777777778, 0.45333333333333337, 0.4455555555555556, 0.5322222222222222, 0.45666666666666667, 0.6133333333333333, 0.4455555555555556, 0.6144444444444445]\n",
      "[0.94, 0.5800000000000001, 0.47, 0.43999999999999995, 1.0, 0.43999999999999995, 0.43999999999999995, 0.48, 0.44999999999999996, 0.5900000000000001, 0.43999999999999995, 0.5800000000000001]\n"
     ]
    },
    {
     "data": {
      "image/png": "[encoded data removed]",
      "text/plain": [
       "<Figure size 1600x400 with 3 Axes>"
      ]
     },
     "metadata": {},
     "output_type": "display_data"
    }
   ],
   "source": [
    "import matplotlib.pyplot as plt\n",
    "from datetime import datetime\n",
    "\n",
    "fig, ax = plt.subplots(1,3, figsize=(16,4))\n",
    "\n",
    "print(training_error)\n",
    "print(testing_error)\n",
    "\n",
    "M = [1, 2, 3, 4]\n",
    "\n",
    "for i in range(3):\n",
    "    l = i * 4\n",
    "    r = i * 4 + 4\n",
    "    ax[i].plot(M, training_error[l:r], label=\"Training error\")\n",
    "    ax[i].plot(M, testing_error[l:r], label=\"Testing error\")\n",
    "    ax[i].legend()\n",
    "    ax[i].set_ylim(0.4, 1)\n",
    "\n",
    "FIG_PATH = './plot/'\n",
    "mm.os.makedirs(FIG_PATH, exist_ok = True)\n",
    "current_time = datetime.now().strftime(\"%Y%m%d_%H%M%S\")\n",
    "filename = f\"on1000_{current_time}.png\"\n",
    "fig.savefig(FIG_PATH + filename)"
   ]
  },
  {
   "cell_type": "markdown",
   "id": "edfd7e5b-03d1-4fe5-b87a-a41cf43918ca",
   "metadata": {},
   "source": [
    "CUDA out of memory with higher fliter:\n",
    "OutOfMemoryError: CUDA out of memory. Tried to allocate 3.65 GiB. GPU 0 has a total capacty of 15.73 GiB of which 200.50 MiB is free. Process 377677 has 2.16 GiB memory in use. Process 442884 has 13.36 GiB memory in use. Of the allocated memory 12.82 GiB is allocated by PyTorch, and 327.44 MiB is reserved by PyTorch but unallocated. If reserved but unallocated memory is large try setting max_split_size_mb to avoid fragmentation.  See documentation for Memory Management and PYTORCH_CUDA_ALLOC_CONF"
   ]
  },
  {
   "cell_type": "markdown",
   "id": "8e3ac914-aff7-4c78-9807-e45eeb603225",
   "metadata": {},
   "source": [
    "The third one (lc = [1024, 64, 32]) looks like chaos, so give up using that.\n",
    "The second one looks closer to get an overfit, do more on second situation in 6-trial."
   ]
  }
 ],
 "metadata": {
  "kernelspec": {
   "display_name": "Python 3 (ipykernel)",
   "language": "python",
   "name": "python3"
  },
  "language_info": {
   "codemirror_mode": {
    "name": "ipython",
    "version": 3
   },
   "file_extension": ".py",
   "mimetype": "text/x-python",
   "name": "python",
   "nbconvert_exporter": "python",
   "pygments_lexer": "ipython3",
   "version": "3.10.12"
  }
 },
 "nbformat": 4,
 "nbformat_minor": 5
}
