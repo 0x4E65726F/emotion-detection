{
 "cells": [
  {
   "cell_type": "code",
   "execution_count": 1,
   "id": "57be8bbe-885d-402f-ad54-3655615c4d17",
   "metadata": {},
   "outputs": [],
   "source": [
    "import my_module as mm"
   ]
  },
  {
   "cell_type": "code",
   "execution_count": 2,
   "id": "de56f015-3fef-4e45-8d35-c077d6483441",
   "metadata": {},
   "outputs": [],
   "source": [
    "categories = [\n",
    "    \"anger\",\n",
    "    \"surprise\",\n",
    "    \"disgust\",\n",
    "    \"fear\",\n",
    "    \"neutral\",\n",
    "    \"happiness\",\n",
    "    \"sad\"\n",
    "]\n",
    "\n",
    "X, y = mm.read_pic(mm.pd.read_csv('data/500_picts_satz.csv'), categories)\n",
    "seed = 1234\n",
    "Xtr, Xva, ytr, yva = mm.train_test_split(X, y, test_size=0.2, random_state=seed)\n",
    "trainloader, testloader = mm.get_loader(Xtr, Xva, ytr, yva)"
   ]
  },
  {
   "cell_type": "code",
   "execution_count": 3,
   "id": "cbfb9dcc-cdad-4d85-b850-9443e5fe9c40",
   "metadata": {},
   "outputs": [
    {
     "name": "stdout",
     "output_type": "stream",
     "text": [
      "cuda\n",
      "1 350 350\n",
      "16 173 173\n",
      "16 84 84\n",
      "32 40 40\n",
      "Net(\n",
      "  (pool): MaxPool2d(kernel_size=2, stride=2, padding=0, dilation=1, ceil_mode=False)\n",
      "  (conv): ModuleList(\n",
      "    (0): Conv2d(1, 16, kernel_size=(5, 5), stride=(1, 1))\n",
      "    (1): Conv2d(16, 16, kernel_size=(5, 5), stride=(1, 1))\n",
      "    (2): Conv2d(16, 32, kernel_size=(5, 5), stride=(1, 1))\n",
      "  )\n",
      "  (fc): ModuleList(\n",
      "    (0): Linear(in_features=51200, out_features=120, bias=True)\n",
      "    (1): Linear(in_features=120, out_features=84, bias=True)\n",
      "    (2): Linear(in_features=84, out_features=7, bias=True)\n",
      "  )\n",
      ")\n",
      "Training Accuracy: 11.027568922305765 %\n",
      "Testing Accuracy: 9.0 %\n",
      "[1,   100] loss: 1.912\n",
      "[2,   100] loss: 1.638\n",
      "Finished Training\n"
     ]
    }
   ],
   "source": [
    "device = mm.torch.device('cuda' if mm.torch.cuda.is_available() else 'cpu')\n",
    "print(device)\n",
    "\n",
    "net = mm.Net(1, 350, 350, 7, [16, 16, 32], [120, 84])\n",
    "print(net)\n",
    "if mm.torch.cuda.is_available():\n",
    "    net.cuda()\n",
    "print(f'Training Accuracy: {mm.accuracy(device, net, trainloader) * 100} %')\n",
    "print(f'Testing Accuracy: {mm.accuracy(device, net, testloader) * 100} %')\n",
    "net = mm.train_process(device, net, trainloader)"
   ]
  },
  {
   "cell_type": "code",
   "execution_count": 4,
   "id": "048c65f6-d11b-49a9-b95b-cb0c86dffb73",
   "metadata": {},
   "outputs": [
    {
     "name": "stdout",
     "output_type": "stream",
     "text": [
      "Training Accuracy: 39.59899749373433 %\n",
      "Testing Accuracy: 39.0 %\n"
     ]
    }
   ],
   "source": [
    "print(f'Training Accuracy: {mm.accuracy(device, net, trainloader) * 100} %')\n",
    "print(f'Testing Accuracy: {mm.accuracy(device, net, testloader) * 100} %')"
   ]
  }
 ],
 "metadata": {
  "kernelspec": {
   "display_name": "Python 3 (ipykernel)",
   "language": "python",
   "name": "python3"
  },
  "language_info": {
   "codemirror_mode": {
    "name": "ipython",
    "version": 3
   },
   "file_extension": ".py",
   "mimetype": "text/x-python",
   "name": "python",
   "nbconvert_exporter": "python",
   "pygments_lexer": "ipython3",
   "version": "3.10.13"
  }
 },
 "nbformat": 4,
 "nbformat_minor": 5
}
