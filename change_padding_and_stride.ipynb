{
 "cells": [
  {
   "cell_type": "code",
   "execution_count": null,
   "id": "52c25a22-993b-4f63-b1b3-695f90e68b7c",
   "metadata": {},
   "outputs": [],
   "source": [
    "import my_module as mm\n",
    "netsA = []\n",
    "netsB = []\n",
    "convs = [8] # ... The best conv layer distro\n",
    "fcs = [] # ... The best fc layer distro\n",
    "device = mm.torch.device('cuda' if mm.torch.cuda.is_available() else 'cpu')\n",
    "print(device)"
   ]
  },
  {
   "cell_type": "code",
   "execution_count": null,
   "id": "c841e34d-76e7-4369-89ac-cb87d6f57e3c",
   "metadata": {},
   "outputs": [],
   "source": [
    "for padding in range(3, 7):\n",
    "    netsA.append(mm.Net(1, 350, 350, 7, convs, fcs, padding = padding))\n",
    "\n",
    "for stride in range(1, 6):\n",
    "    netsA.append(mm.Net(1, 350, 350, 7, convs, fcs, stride = stride))"
   ]
  },
  {
   "cell_type": "code",
   "execution_count": null,
   "id": "6ceedcba-2719-4fe2-b8ff-e312eaccea39",
   "metadata": {},
   "outputs": [],
   "source": [
    "categories = [\n",
    "    \"anger\",\n",
    "    \"surprise\",\n",
    "    \"disgust\",\n",
    "    \"fear\",\n",
    "    \"neutral\",\n",
    "    \"happiness\",\n",
    "    \"sadness\",\n",
    "    \"contempt\"\n",
    "]\n",
    "\n",
    "X, y = mm.read_pic(mm.pd.read_csv('data/legend.csv'), categories)\n",
    "seed = 1234\n",
    "Xtr, Xva, ytr, yva = mm.train_test_split(X, y, test_size=0.2, random_state=seed)\n",
    "trainloader, testloader = mm.get_loader(Xtr, Xva, ytr, yva)"
   ]
  },
  {
   "cell_type": "code",
   "execution_count": null,
   "id": "5cb6449a-d9e3-4ae3-bba7-963a7a8c0f1c",
   "metadata": {},
   "outputs": [],
   "source": [
    "count = 2\n",
    "DIR_PATH_A = './model/change_padding_and_stride/padding/'\n",
    "for net in netsA:\n",
    "    if mm.torch.cuda.is_available():\n",
    "        net.cuda()\n",
    "    net = mm.train_process(device, net, trainloader)\n",
    "    count += 1\n",
    "    PATH = DIR_PATH_A + \"padding_\" + str(count)\n",
    "    mm.torch.save(net.state_dict(), PATH)\n",
    "    print(PATH, \"done.\")"
   ]
  },
  {
   "cell_type": "code",
   "execution_count": null,
   "id": "cf2b9c77-613b-4570-bf8e-e1e416415d9e",
   "metadata": {},
   "outputs": [],
   "source": [
    "count = 0\n",
    "DIR_PATH_B = './model/change_padding_and_stride/stride/'\n",
    "for net in netsB:\n",
    "    if mm.torch.cuda.is_available():\n",
    "        net.cuda()\n",
    "    net = mm.train_process(device, net, trainloader)\n",
    "    count += 1\n",
    "    PATH = DIR_PATH_B + \"stride_\" + str(count)\n",
    "    mm.torch.save(net.state_dict(), PATH)\n",
    "    print(PATH, \"done.\")"
   ]
  },
  {
   "cell_type": "markdown",
   "id": "b13c1506-7636-4156-9092-8758234b22a9",
   "metadata": {},
   "source": [
    "# Analysis in another notebook!"
   ]
  }
 ],
 "metadata": {
  "kernelspec": {
   "display_name": "Python 3 (ipykernel)",
   "language": "python",
   "name": "python3"
  },
  "language_info": {
   "codemirror_mode": {
    "name": "ipython",
    "version": 3
   },
   "file_extension": ".py",
   "mimetype": "text/x-python",
   "name": "python",
   "nbconvert_exporter": "python",
   "pygments_lexer": "ipython3",
   "version": "3.11.5"
  }
 },
 "nbformat": 4,
 "nbformat_minor": 5
}
