{
 "cells": [
  {
   "cell_type": "code",
   "execution_count": 1,
   "id": "3ec7793e-8a63-46c6-9cdc-0258e2647dd5",
   "metadata": {},
   "outputs": [
    {
     "name": "stdout",
     "output_type": "stream",
     "text": [
      "cpu\n"
     ]
    }
   ],
   "source": [
    "import my_module as mm\n",
    "nets = []\n",
    "convs = [8, 16, 32, 64]\n",
    "fcs = [152, 38, 14]\n",
    "device = mm.torch.device('cuda' if mm.torch.cuda.is_available() else 'cpu')\n",
    "print(device)"
   ]
  },
  {
   "cell_type": "code",
   "execution_count": 2,
   "id": "c40b00e5-8ff3-4f61-8a50-9b9d3acf0601",
   "metadata": {},
   "outputs": [],
   "source": [
    "for i in range(2, -1, -1):\n",
    "    for j in range(1, 5):\n",
    "        nets.append(mm.Net(1, 350, 350, 7, convs[:j], fcs[i:]))"
   ]
  },
  {
   "cell_type": "code",
   "execution_count": 3,
   "id": "366c115e-124f-433c-a721-b68040ad3f4a",
   "metadata": {},
   "outputs": [],
   "source": [
    "categories = [\n",
    "    \"anger\",\n",
    "    \"surprise\",\n",
    "    \"disgust\",\n",
    "    \"fear\",\n",
    "    \"neutral\",\n",
    "    \"happiness\",\n",
    "    \"sadness\",\n",
    "    \"contempt\"\n",
    "]\n",
    "\n",
    "X, y = mm.read_pic(mm.pd.read_csv('data/legend.csv'), categories)\n",
    "seed = 1234\n",
    "Xtr, Xva, ytr, yva = mm.train_test_split(X, y, test_size=0.2, random_state=seed)\n",
    "trainloader, testloader = mm.get_loader(Xtr, Xva, ytr, yva)"
   ]
  },
  {
   "cell_type": "code",
   "execution_count": 4,
   "id": "b37ccae0-b6e5-4ce3-906e-1d44bc8b0f52",
   "metadata": {},
   "outputs": [
    {
     "name": "stdout",
     "output_type": "stream",
     "text": [
      "Finished Training\n",
      "./model/change_layer_disto/model_1 done.\n",
      "Finished Training\n",
      "./model/change_layer_disto/model_2 done.\n",
      "Finished Training\n",
      "./model/change_layer_disto/model_3 done.\n",
      "Finished Training\n",
      "./model/change_layer_disto/model_4 done.\n",
      "Finished Training\n",
      "./model/change_layer_disto/model_5 done.\n",
      "Finished Training\n",
      "./model/change_layer_disto/model_6 done.\n",
      "Finished Training\n",
      "./model/change_layer_disto/model_7 done.\n",
      "Finished Training\n",
      "./model/change_layer_disto/model_8 done.\n",
      "Finished Training\n",
      "./model/change_layer_disto/model_9 done.\n",
      "Finished Training\n",
      "./model/change_layer_disto/model_10 done.\n",
      "Finished Training\n",
      "./model/change_layer_disto/model_11 done.\n",
      "Finished Training\n",
      "./model/change_layer_disto/model_12 done.\n"
     ]
    }
   ],
   "source": [
    "count = 0\n",
    "DIR_PATH = './model/change_layer_disto/'\n",
    "for net in nets:\n",
    "    if mm.torch.cuda.is_available():\n",
    "        net.cuda()\n",
    "    net = mm.train_process(device, net, trainloader)\n",
    "    count += 1\n",
    "    PATH = DIR_PATH + \"model_\" + str(count)\n",
    "    mm.torch.save(net.state_dict(), PATH)\n",
    "    print(PATH, \"done.\")"
   ]
  },
  {
   "cell_type": "markdown",
   "id": "6e80237d-6018-4be8-84dd-1b9e2c8fcdb1",
   "metadata": {},
   "source": [
    "# Analysis in another notebook!"
   ]
  }
 ],
 "metadata": {
  "kernelspec": {
   "display_name": "Python 3 (ipykernel)",
   "language": "python",
   "name": "python3"
  },
  "language_info": {
   "codemirror_mode": {
    "name": "ipython",
    "version": 3
   },
   "file_extension": ".py",
   "mimetype": "text/x-python",
   "name": "python",
   "nbconvert_exporter": "python",
   "pygments_lexer": "ipython3",
   "version": "3.11.5"
  }
 },
 "nbformat": 4,
 "nbformat_minor": 5
}
