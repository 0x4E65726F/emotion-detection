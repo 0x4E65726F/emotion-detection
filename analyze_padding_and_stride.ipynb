{
 "cells": [
  {
   "cell_type": "code",
   "execution_count": null,
   "id": "6ebd7228-81a5-4c8f-871e-396e44893ad3",
   "metadata": {},
   "outputs": [],
   "source": [
    "import my_module as mm\n",
    "netsA = []\n",
    "netsB = []\n",
    "convs = [8, 16, 32, 64]\n",
    "fcs = [152, 38, 14]\n",
    "device = mm.torch.device('cuda' if mm.torch.cuda.is_available() else 'cpu')\n",
    "print(device)"
   ]
  },
  {
   "cell_type": "code",
   "execution_count": null,
   "id": "e2e5d194-6644-4dc3-924c-537168e6ed2a",
   "metadata": {},
   "outputs": [],
   "source": [
    "count = 0\n",
    "\n",
    "DIR_PATH_PADDING = './model/padding/'\n",
    "DIR_PATH_STRIDE = './model/stride/'\n",
    "\n",
    "for padding in range(3, 7):\n",
    "    net = mm.Net(1, 350, 350, 7, convs, fcs, padding = padding)\n",
    "    PATH = DIR_PATH_PADDING + \"padding_\" + str(padding)\n",
    "    net.load_state_dict(mm.torch.load(PATH))\n",
    "    netsA.append(net)\n",
    "\n",
    "for stride in range(1, 6):\n",
    "    net = mm.Net(1, 350, 350, 7, convs, fcs, stride = stride)\n",
    "    PATH = DIR_PATH_PADDING + \"padding_\" + str(padding)\n",
    "    net.load_state_dict(mm.torch.load(PATH))\n",
    "    netsB.append(net)\n",
    "\n",
    "print(\"Done\")"
   ]
  },
  {
   "cell_type": "code",
   "execution_count": null,
   "id": "fe2d0e21-2d66-41a6-b650-f5675c9ce8c7",
   "metadata": {},
   "outputs": [],
   "source": [
    "categories = [\n",
    "    \"anger\",\n",
    "    \"surprise\",\n",
    "    \"disgust\",\n",
    "    \"fear\",\n",
    "    \"neutral\",\n",
    "    \"happiness\",\n",
    "    \"sadness\",\n",
    "    \"contempt\"\n",
    "]\n",
    "\n",
    "X, y = mm.read_pic(mm.pd.read_csv('data/legend.csv'), categories)\n",
    "seed = 1234\n",
    "Xtr, Xva, ytr, yva = mm.train_test_split(X, y, test_size=0.2, random_state=seed)\n",
    "trainloader, testloader = mm.get_loader(Xtr, Xva, ytr, yva)\n",
    "print(\"Done\")"
   ]
  },
  {
   "cell_type": "code",
   "execution_count": null,
   "id": "9a93a923-755f-45d0-b7af-bdd0efa9b651",
   "metadata": {},
   "outputs": [],
   "source": [
    "training_error_A = []\n",
    "testing_error_A = []\n",
    "count_A = []\n",
    "count = 2\n",
    "for net in netsA:\n",
    "    if mm.torch.cuda.is_available():\n",
    "        net.cuda()\n",
    "    training_error_A.append(1 - mm.accuracy(device, net, trainloader))\n",
    "    testing_error_A.append(1 - mm.accuracy(device, net, testloader))\n",
    "    count += 1\n",
    "    count_A.append(count)\n",
    "    print(\"Done for stride\", count)"
   ]
  },
  {
   "cell_type": "code",
   "execution_count": null,
   "id": "40ee805b-4e19-4809-a36c-04d556a786fb",
   "metadata": {},
   "outputs": [],
   "source": [
    "training_error_B = []\n",
    "testing_error_B = []\n",
    "count_B = []\n",
    "count = 0\n",
    "for net in netsB:\n",
    "    if mm.torch.cuda.is_available():\n",
    "        net.cuda()\n",
    "    training_error_B.append(1 - mm.accuracy(device, net, trainloader))\n",
    "    testing_error_B.append(1 - mm.accuracy(device, net, testloader))\n",
    "    count += 1\n",
    "    count_B.append(count)\n",
    "    print(\"Done for padding\", count)"
   ]
  },
  {
   "cell_type": "code",
   "execution_count": null,
   "id": "6ef9864b-94fb-48a5-83c3-7ddb9b03d6a3",
   "metadata": {},
   "outputs": [],
   "source": [
    "import matplotlib.pyplot as plt\n",
    "\n",
    "fig, ax = plt.subplots(1,2, figsize=(8,4))\n",
    "\n",
    "ax[0].plot(count_A, training_error_A, label=\"Training error\")\n",
    "ax[0].plot(count_A, testing_error_A, label=\"Testing error\")\n",
    "ax[0].legend()\n",
    "ax[1].plot(count_B, training_error_B, label=\"Training error\")\n",
    "ax[1].plot(count_B, testing_error_B, label=\"Testing error\")\n",
    "ax[1].legend()"
   ]
  }
 ],
 "metadata": {
  "kernelspec": {
   "display_name": "Python 3 (ipykernel)",
   "language": "python",
   "name": "python3"
  },
  "language_info": {
   "codemirror_mode": {
    "name": "ipython",
    "version": 3
   },
   "file_extension": ".py",
   "mimetype": "text/x-python",
   "name": "python",
   "nbconvert_exporter": "python",
   "pygments_lexer": "ipython3",
   "version": "3.10.12"
  }
 },
 "nbformat": 4,
 "nbformat_minor": 5
}
